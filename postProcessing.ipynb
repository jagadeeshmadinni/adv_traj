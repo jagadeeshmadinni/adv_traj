{
 "cells": [
  {
   "cell_type": "code",
   "execution_count": 1,
   "id": "ee2c63e9-6ff1-4da8-9404-d7a5d3ca1dbc",
   "metadata": {},
   "outputs": [],
   "source": [
    "import json\n",
    "import os\n",
    "import math\n",
    "import numpy as np\n",
    "import pandas as pd\n",
    "import collections\n",
    "import torch\n",
    "#Specify the path to the output files\n",
    "attackDir = 'attack/raw'\n",
    "normalDir = 'normal_pred/raw'"
   ]
  },
  {
   "cell_type": "code",
   "execution_count": 2,
   "id": "9b278dfe-72e9-40a4-8f95-3d2c838b32cb",
   "metadata": {
    "tags": []
   },
   "outputs": [],
   "source": [
    "#Open and store the list of filenames of the attack test cases\n",
    "results = open('File_Names_Updated.txt','r')"
   ]
  },
  {
   "cell_type": "code",
   "execution_count": 3,
   "id": "040be6a7-074d-4a2d-a9e5-2c23b24d80e9",
   "metadata": {
    "tags": []
   },
   "outputs": [],
   "source": [
    "fileNamesText = results.read()"
   ]
  },
  {
   "cell_type": "code",
   "execution_count": 4,
   "id": "eb2eeb2a-62ba-450e-b80d-544858cef563",
   "metadata": {
    "tags": []
   },
   "outputs": [],
   "source": [
    "fileNamesList = fileNamesText.split('\\n')"
   ]
  },
  {
   "cell_type": "code",
   "execution_count": 5,
   "id": "4ef82bac-98f6-4eb1-b342-f72987b0b8a8",
   "metadata": {
    "tags": []
   },
   "outputs": [],
   "source": [
    "fileNames = [fileName[2:-2] for fileName in fileNamesList]"
   ]
  },
  {
   "cell_type": "code",
   "execution_count": 6,
   "id": "849f8e0c-2d25-4b0c-a0bf-6a5976bfb1e7",
   "metadata": {
    "tags": []
   },
   "outputs": [],
   "source": [
    "#Extract scene title from the attack file name and store the corresponding normal prediction file name \n",
    "attackJsonDict = {}\n",
    "normalJsonDict = collections.defaultdict(list)\n",
    "normalFileName = {}\n",
    "for fileName in fileNames:\n",
    "    parts = fileName.split('-')\n",
    "    frameID = parts[0]\n",
    "    objectID = parts[1]\n",
    "    attackName = parts[2].split('.')[0]\n",
    "    attackJsonDict[fileName] = [frameID,objectID,attackName]\n",
    "    normalFileName[fileName]=\"{}-{}.json\".format(parts[0], parts[1])\n",
    "    normalJsonDict[normalFileName[fileName]].append(fileName)\n",
    "sceneNameList = list({str(value.split('.')[0]) for (key,value) in normalFileName.items()})"
   ]
  },
  {
   "cell_type": "code",
   "execution_count": 7,
   "id": "0eb34f90-25f1-41c8-ab8e-8ed88e56d8f0",
   "metadata": {
    "tags": []
   },
   "outputs": [],
   "source": [
    "#Create a multi-indexed dataframe to store the error metrics against each prediction mode\n",
    "sub_indices = [\"normal\", \"ade\", \"fde\", \"front\", \"right\", \"rear\", \"left\"]\n",
    "columns = [\"ADE\", \"FDE\", \"Front Deviation\",\"Rear Deviation\", \"Right Deviation\",  \"Left Deviation\"]\n",
    "index = pd.MultiIndex.from_product([sceneNameList, sub_indices], names=[\"scene\", \"type\"])\n",
    "metrics_df = pd.DataFrame(index=index, columns=columns)\n",
    "#metrics_df.index = metrics_df.index.set_levels(sceneNameList, level=\"row\")"
   ]
  },
  {
   "cell_type": "code",
   "execution_count": 8,
   "id": "7cd956aa-dd4a-4c59-928f-3f51a21e87d5",
   "metadata": {},
   "outputs": [],
   "source": [
    "#Function to calculate all six errors\n",
    "def calculateErrors(predict,future,observe):\n",
    "    \n",
    "    diff_square = np.square(predict-future)\n",
    "    predict_trace = torch.from_numpy(predict)\n",
    "    future_trace = torch.from_numpy(future)\n",
    "    observe_trace = torch.from_numpy(observe)\n",
    "    ADE = np.sum(np.sqrt(diff_square[:,0]+diff_square[:,1]))/len(predict_trace)\n",
    "    FDE = np.sqrt(diff_square[-1:,0]+diff_square[-1:,1])[0]\n",
    "    offset = predict_trace - future_trace\n",
    "    direction = (future_trace - \n",
    "                 torch.cat(\n",
    "                   (torch.reshape(observe_trace[-1,:], (1,2)), \n",
    "                    future_trace[:-1,:]), 0)).float()\n",
    "    scale = torch.sqrt(torch.sum(torch.square(direction), 1)).float()\n",
    "    right_direction = torch.matmul(\n",
    "                        torch.tensor([[0., 1.], [-1., 0.]]).float(),\n",
    "                        direction.t().float() / scale).t()\n",
    "    average_right_distance = torch.sum(offset * right_direction) / predict_trace.shape[0]\n",
    "    average_front_distance = torch.sum(offset * (direction.t().float() / scale).t()) / predict_trace.shape[0]\n",
    "    right_distance = average_right_distance.item()\n",
    "    left_distance = -average_right_distance.item()\n",
    "    front_distance = average_front_distance.item()\n",
    "    rear_distance = -average_front_distance.item()\n",
    "\n",
    "    \n",
    "    return [ADE, FDE, front_distance,rear_distance,right_distance,left_distance]"
   ]
  },
  {
   "cell_type": "code",
   "execution_count": 9,
   "id": "1f58cce5-6bd9-44a1-a8f3-fba9e6f6f4cf",
   "metadata": {
    "tags": []
   },
   "outputs": [],
   "source": [
    "#Extract the observe trace, predict trace and future trace of the target vehicle as stored in the json files\n",
    "#Frame 5 is the final prediction frame which has all the trace data post attack\n",
    "#Calculate and store the metrics in the metrics_df dataframe\n",
    "frame = 5\n",
    "for sceneName in sceneNameList:\n",
    "    \n",
    "    normalFileName = \"{}.json\".format(sceneName)\n",
    "    normalPath = os.path.join(normalDir,normalFileName)\n",
    "    with open(normalPath, 'r') as f:\n",
    "        normalContent = f.read()\n",
    "    normalData = json.loads(normalContent)\n",
    "    normalOutput = normalData['output_data']\n",
    "    normalObjects = normalOutput[str(frame)]['objects']\n",
    "    normal_predict_trace = np.array(normalObjects[str(sceneName.split('-')[1])]['predict_trace'])\n",
    "    normal_observe_trace = np.array(normalObjects[str(sceneName.split('-')[1])]['observe_trace'])\n",
    "    future_trace = np.array(normalObjects[str(sceneName.split('-')[1])]['future_trace'])\n",
    "    normal_results = calculateErrors(normal_predict_trace,future_trace,normal_observe_trace)\n",
    "    metrics_df.loc[(sceneName,'normal')] = normal_results\n",
    "    \n",
    "    for attack_mode in sub_indices[1:]:\n",
    "        #attackFileName = fileName+'-'+attack_mode+'.json'\n",
    "        attackFileName =\"{}-{}.json\".format(sceneName,attack_mode)\n",
    "        attackPath = os.path.join(attackDir,attackFileName)\n",
    "\n",
    "        with open(attackPath, 'r') as f:\n",
    "            attackContent = f.read()\n",
    "        attackData = json.loads(attackContent)\n",
    "        attackOutput = attackData['output_data']\n",
    "       \n",
    "        attackObjects = attackOutput[str(frame)]['objects']\n",
    "        attack_predict_trace = np.array(attackObjects[str(sceneName.split('-')[1])]['predict_trace'])\n",
    "        #future_trace = attackObjects[str(attackJsonDict[attackFileName][1])]['future_trace']\n",
    "        attack_observe_trace = np.array(attackObjects[str(sceneName.split('-')[1])]['observe_trace'])\n",
    "        attack_results = calculateErrors(attack_predict_trace,future_trace,attack_observe_trace)\n",
    "        metrics_df.loc[(sceneName,attack_mode)] = attack_results  "
   ]
  },
  {
   "cell_type": "code",
   "execution_count": 10,
   "id": "6fa80c1d-acd8-44bb-9c37-cc389b3531dc",
   "metadata": {
    "tags": []
   },
   "outputs": [],
   "source": [
    "#Save the metrics dataframe\n",
    "metrics_df.to_csv(\"All_Metrics.csv\")"
   ]
  },
  {
   "cell_type": "code",
   "execution_count": 11,
   "id": "e4a490a0-9399-42e3-8ab0-05d36ddba9a7",
   "metadata": {
    "tags": []
   },
   "outputs": [
    {
     "data": {
      "text/html": [
       "<div>\n",
       "<style scoped>\n",
       "    .dataframe tbody tr th:only-of-type {\n",
       "        vertical-align: middle;\n",
       "    }\n",
       "\n",
       "    .dataframe tbody tr th {\n",
       "        vertical-align: top;\n",
       "    }\n",
       "\n",
       "    .dataframe thead th {\n",
       "        text-align: right;\n",
       "    }\n",
       "</style>\n",
       "<table border=\"1\" class=\"dataframe\">\n",
       "  <thead>\n",
       "    <tr style=\"text-align: right;\">\n",
       "      <th></th>\n",
       "      <th>ADE</th>\n",
       "      <th>FDE</th>\n",
       "      <th>Front Deviation</th>\n",
       "      <th>Rear Deviation</th>\n",
       "      <th>Right Deviation</th>\n",
       "      <th>Left Deviation</th>\n",
       "    </tr>\n",
       "    <tr>\n",
       "      <th>type</th>\n",
       "      <th></th>\n",
       "      <th></th>\n",
       "      <th></th>\n",
       "      <th></th>\n",
       "      <th></th>\n",
       "      <th></th>\n",
       "    </tr>\n",
       "  </thead>\n",
       "  <tbody>\n",
       "    <tr>\n",
       "      <th>normal</th>\n",
       "      <td>2.950599</td>\n",
       "      <td>5.715799</td>\n",
       "      <td>2.280327</td>\n",
       "      <td>-2.280327</td>\n",
       "      <td>-1.372867</td>\n",
       "      <td>1.372867</td>\n",
       "    </tr>\n",
       "    <tr>\n",
       "      <th>ade</th>\n",
       "      <td>6.430954</td>\n",
       "      <td>11.743766</td>\n",
       "      <td>5.501614</td>\n",
       "      <td>-5.501614</td>\n",
       "      <td>-3.27492</td>\n",
       "      <td>3.27492</td>\n",
       "    </tr>\n",
       "    <tr>\n",
       "      <th>fde</th>\n",
       "      <td>6.426721</td>\n",
       "      <td>11.733865</td>\n",
       "      <td>5.494395</td>\n",
       "      <td>-5.494395</td>\n",
       "      <td>-3.278441</td>\n",
       "      <td>3.278441</td>\n",
       "    </tr>\n",
       "    <tr>\n",
       "      <th>front</th>\n",
       "      <td>6.533071</td>\n",
       "      <td>11.57958</td>\n",
       "      <td>5.616872</td>\n",
       "      <td>-5.616872</td>\n",
       "      <td>-3.322002</td>\n",
       "      <td>3.322002</td>\n",
       "    </tr>\n",
       "    <tr>\n",
       "      <th>right</th>\n",
       "      <td>2.413732</td>\n",
       "      <td>4.515473</td>\n",
       "      <td>1.969996</td>\n",
       "      <td>-1.969996</td>\n",
       "      <td>0.251792</td>\n",
       "      <td>-0.251792</td>\n",
       "    </tr>\n",
       "    <tr>\n",
       "      <th>rear</th>\n",
       "      <td>2.185283</td>\n",
       "      <td>2.567517</td>\n",
       "      <td>-1.055538</td>\n",
       "      <td>1.055538</td>\n",
       "      <td>-1.35162</td>\n",
       "      <td>1.35162</td>\n",
       "    </tr>\n",
       "    <tr>\n",
       "      <th>left</th>\n",
       "      <td>4.362663</td>\n",
       "      <td>7.825603</td>\n",
       "      <td>2.536129</td>\n",
       "      <td>-2.536129</td>\n",
       "      <td>-3.298795</td>\n",
       "      <td>3.298795</td>\n",
       "    </tr>\n",
       "  </tbody>\n",
       "</table>\n",
       "</div>"
      ],
      "text/plain": [
       "             ADE        FDE Front Deviation Rear Deviation Right Deviation  \\\n",
       "type                                                                         \n",
       "normal  2.950599   5.715799        2.280327      -2.280327       -1.372867   \n",
       "ade     6.430954  11.743766        5.501614      -5.501614        -3.27492   \n",
       "fde     6.426721  11.733865        5.494395      -5.494395       -3.278441   \n",
       "front   6.533071   11.57958        5.616872      -5.616872       -3.322002   \n",
       "right   2.413732   4.515473        1.969996      -1.969996        0.251792   \n",
       "rear    2.185283   2.567517       -1.055538       1.055538        -1.35162   \n",
       "left    4.362663   7.825603        2.536129      -2.536129       -3.298795   \n",
       "\n",
       "       Left Deviation  \n",
       "type                   \n",
       "normal       1.372867  \n",
       "ade           3.27492  \n",
       "fde          3.278441  \n",
       "front        3.322002  \n",
       "right       -0.251792  \n",
       "rear          1.35162  \n",
       "left         3.298795  "
      ]
     },
     "execution_count": 11,
     "metadata": {},
     "output_type": "execute_result"
    }
   ],
   "source": [
    "#Example data for case study\n",
    "metrics_df.loc['0-24']"
   ]
  },
  {
   "cell_type": "code",
   "execution_count": 12,
   "id": "5a2f6360-34ea-4121-ba34-114ed2d61d81",
   "metadata": {
    "tags": []
   },
   "outputs": [],
   "source": [
    "results_df = pd.read_csv('All_Metrics.csv')"
   ]
  },
  {
   "cell_type": "code",
   "execution_count": 13,
   "id": "bf13f174-82f5-4ece-8ea2-896bc22c90f4",
   "metadata": {
    "tags": []
   },
   "outputs": [
    {
     "name": "stderr",
     "output_type": "stream",
     "text": [
      "C:\\Users\\mkjag\\AppData\\Local\\Temp\\ipykernel_17696\\1762529664.py:2: FutureWarning: The default value of numeric_only in DataFrameGroupBy.mean is deprecated. In a future version, numeric_only will default to False. Either specify numeric_only or select only columns which should be valid for the function.\n",
      "  format_out = results_df.groupby('type').mean().T.round(decimals=4)\n"
     ]
    }
   ],
   "source": [
    "#Group the rows by type of attack and calculate the average of each of the metrics for the prediction modes\n",
    "format_out = results_df.groupby('type').mean().T.round(decimals=4)"
   ]
  },
  {
   "cell_type": "code",
   "execution_count": 14,
   "id": "350cbee8-df74-40ea-aef4-dd6a23d10e73",
   "metadata": {},
   "outputs": [],
   "source": [
    "#Store the results to a csv file\n",
    "format_out.to_csv('Final_results.csv')"
   ]
  },
  {
   "cell_type": "code",
   "execution_count": null,
   "id": "2816decd-409b-42a7-b820-ec84033fadb1",
   "metadata": {
    "tags": []
   },
   "outputs": [],
   "source": []
  },
  {
   "cell_type": "code",
   "execution_count": null,
   "id": "a9bd32e4-03b7-4f43-b6dd-75218444c858",
   "metadata": {
    "tags": []
   },
   "outputs": [],
   "source": []
  },
  {
   "cell_type": "code",
   "execution_count": null,
   "id": "1922f8d8-ec31-43db-889a-162a1be396da",
   "metadata": {
    "tags": []
   },
   "outputs": [],
   "source": []
  },
  {
   "cell_type": "code",
   "execution_count": null,
   "id": "12885e03-152f-41b4-ad02-10931e8ac3a3",
   "metadata": {
    "tags": []
   },
   "outputs": [],
   "source": []
  },
  {
   "cell_type": "code",
   "execution_count": null,
   "id": "a63d7ff8-4a9d-4c6b-a14a-0cdccad479aa",
   "metadata": {
    "tags": []
   },
   "outputs": [],
   "source": []
  },
  {
   "cell_type": "code",
   "execution_count": null,
   "id": "cdb365c9-2139-4823-9e06-b5f041e491f6",
   "metadata": {
    "tags": []
   },
   "outputs": [],
   "source": []
  },
  {
   "cell_type": "code",
   "execution_count": null,
   "id": "e1b1f07a-da4a-4509-86f7-b1bbf789113c",
   "metadata": {},
   "outputs": [],
   "source": []
  },
  {
   "cell_type": "code",
   "execution_count": null,
   "id": "0a1b699a-1470-4405-adb8-770affe665db",
   "metadata": {
    "tags": []
   },
   "outputs": [],
   "source": []
  },
  {
   "cell_type": "code",
   "execution_count": null,
   "id": "18f604d2-1f35-4102-b267-06bfe4761c12",
   "metadata": {
    "tags": []
   },
   "outputs": [],
   "source": []
  },
  {
   "cell_type": "code",
   "execution_count": null,
   "id": "2f354ffe-c695-4b61-b303-4f495e5849e9",
   "metadata": {
    "tags": []
   },
   "outputs": [],
   "source": []
  },
  {
   "cell_type": "code",
   "execution_count": null,
   "id": "041b3904-8e03-411d-a84d-b26180dba79e",
   "metadata": {
    "tags": []
   },
   "outputs": [],
   "source": []
  },
  {
   "cell_type": "code",
   "execution_count": null,
   "id": "d67ed0f8-3796-478d-9059-dfb54aafc251",
   "metadata": {},
   "outputs": [],
   "source": []
  }
 ],
 "metadata": {
  "kernelspec": {
   "display_name": "Python 3 (ipykernel)",
   "language": "python",
   "name": "python3"
  },
  "language_info": {
   "codemirror_mode": {
    "name": "ipython",
    "version": 3
   },
   "file_extension": ".py",
   "mimetype": "text/x-python",
   "name": "python",
   "nbconvert_exporter": "python",
   "pygments_lexer": "ipython3",
   "version": "3.11.4"
  }
 },
 "nbformat": 4,
 "nbformat_minor": 5
}
